{
 "cells": [
  {
   "cell_type": "code",
   "execution_count": 81,
   "metadata": {},
   "outputs": [],
   "source": [
    "import numpy as np\n",
    "import pandas as pd\n",
    "import matplotlib.pyplot as plt\n",
    "import random"
   ]
  },
  {
   "cell_type": "code",
   "execution_count": 134,
   "metadata": {},
   "outputs": [],
   "source": [
    "def create_csv_file(train_data, test_data):\n",
    "    # Combine data\n",
    "    full_data = pd.concat([train_data,test_data],ignore_index=True)\n",
    "    labels = []\n",
    "    ones = []\n",
    "    zeros = []\n",
    "    full_description = []\n",
    "\n",
    "    # Change labels to 0 or 1 for halloween movies\n",
    "    for idx in full_data.index:\n",
    "        if \"horror\" in full_data.loc[idx].at[\"Genre\"]:\n",
    "            labels.append(1)\n",
    "            ones.append(idx)\n",
    "        else:\n",
    "            labels.append(0)\n",
    "            zeros.append(idx)\n",
    "\n",
    "        full_description.append(full_data.loc[idx].at[\"Title\"]+\" \"+full_data.loc[idx].at[\"Description\"])\n",
    "\n",
    "    full_data = pd.DataFrame({'Full Description':full_description, 'Labels': labels},index=full_data.index)\n",
    "\n",
    "    # Randomly balance out the classes\n",
    "    full_data = full_data.drop(random.sample(zeros,len(zeros)-len(ones)))\n",
    "    # Save to csv\n",
    "    full_data.to_csv('halloween_movies.csv',index=False)\n",
    "\n",
    "    return full_data"
   ]
  },
  {
   "cell_type": "code",
   "execution_count": 135,
   "metadata": {},
   "outputs": [
    {
     "name": "stderr",
     "output_type": "stream",
     "text": [
      "/var/folders/3p/x1hjmpx55zbf70vx528h1ph40000gn/T/ipykernel_43283/1296152264.py:4: ParserWarning: Falling back to the 'python' engine because the 'c' engine does not support regex separators (separators > 1 char and different from '\\s+' are interpreted as regex); you can avoid this warning by specifying engine='python'.\n",
      "  train_data = pd.read_csv(train_path, sep=':::', names=['Title', 'Genre', 'Description'])\n",
      "/var/folders/3p/x1hjmpx55zbf70vx528h1ph40000gn/T/ipykernel_43283/1296152264.py:5: ParserWarning: Falling back to the 'python' engine because the 'c' engine does not support regex separators (separators > 1 char and different from '\\s+' are interpreted as regex); you can avoid this warning by specifying engine='python'.\n",
      "  test_data = pd.read_csv(test_path, sep=':::', names=['Title', 'Genre', 'Description'])\n"
     ]
    },
    {
     "data": {
      "text/html": [
       "<div>\n",
       "<style scoped>\n",
       "    .dataframe tbody tr th:only-of-type {\n",
       "        vertical-align: middle;\n",
       "    }\n",
       "\n",
       "    .dataframe tbody tr th {\n",
       "        vertical-align: top;\n",
       "    }\n",
       "\n",
       "    .dataframe thead th {\n",
       "        text-align: right;\n",
       "    }\n",
       "</style>\n",
       "<table border=\"1\" class=\"dataframe\">\n",
       "  <thead>\n",
       "    <tr style=\"text-align: right;\">\n",
       "      <th></th>\n",
       "      <th>Titles</th>\n",
       "      <th>Labels</th>\n",
       "    </tr>\n",
       "  </thead>\n",
       "  <tbody>\n",
       "    <tr>\n",
       "      <th>0</th>\n",
       "      <td>\"Pink Slip\" (2009)</td>\n",
       "      <td>0</td>\n",
       "    </tr>\n",
       "    <tr>\n",
       "      <th>1</th>\n",
       "      <td>Spirits (2014/I)</td>\n",
       "      <td>1</td>\n",
       "    </tr>\n",
       "    <tr>\n",
       "      <th>2</th>\n",
       "      <td>Love Bites (2018)</td>\n",
       "      <td>1</td>\n",
       "    </tr>\n",
       "    <tr>\n",
       "      <th>3</th>\n",
       "      <td>Dark Remains (2005)</td>\n",
       "      <td>1</td>\n",
       "    </tr>\n",
       "    <tr>\n",
       "      <th>4</th>\n",
       "      <td>Race Across America: Push Beyond (2017)</td>\n",
       "      <td>0</td>\n",
       "    </tr>\n",
       "    <tr>\n",
       "      <th>...</th>\n",
       "      <td>...</td>\n",
       "      <td>...</td>\n",
       "    </tr>\n",
       "    <tr>\n",
       "      <th>8811</th>\n",
       "      <td>No Problem (????)</td>\n",
       "      <td>0</td>\n",
       "    </tr>\n",
       "    <tr>\n",
       "      <th>8812</th>\n",
       "      <td>Black Market Kidneys (BMK)</td>\n",
       "      <td>1</td>\n",
       "    </tr>\n",
       "    <tr>\n",
       "      <th>8813</th>\n",
       "      <td>\"The Hitcher\" (2012)</td>\n",
       "      <td>1</td>\n",
       "    </tr>\n",
       "    <tr>\n",
       "      <th>8814</th>\n",
       "      <td>Demon 6 (????)</td>\n",
       "      <td>1</td>\n",
       "    </tr>\n",
       "    <tr>\n",
       "      <th>8815</th>\n",
       "      <td>\"Tales of Light &amp; Dark\" (2013)</td>\n",
       "      <td>1</td>\n",
       "    </tr>\n",
       "  </tbody>\n",
       "</table>\n",
       "<p>8816 rows × 2 columns</p>\n",
       "</div>"
      ],
      "text/plain": [
       "                                         Titles  Labels\n",
       "0                           \"Pink Slip\" (2009)        0\n",
       "1                             Spirits (2014/I)        1\n",
       "2                            Love Bites (2018)        1\n",
       "3                          Dark Remains (2005)        1\n",
       "4      Race Across America: Push Beyond (2017)        0\n",
       "...                                         ...     ...\n",
       "8811                         No Problem (????)        0\n",
       "8812                Black Market Kidneys (BMK)        1\n",
       "8813                      \"The Hitcher\" (2012)        1\n",
       "8814                            Demon 6 (????)        1\n",
       "8815            \"Tales of Light & Dark\" (2013)        1\n",
       "\n",
       "[8816 rows x 2 columns]"
      ]
     },
     "metadata": {},
     "output_type": "display_data"
    },
    {
     "name": "stdout",
     "output_type": "stream",
     "text": [
      "Number of halloween movies: 4408\n",
      "Number of every other movie: 4408\n"
     ]
    }
   ],
   "source": [
    "train_path = \"train_data.txt\"\n",
    "test_path = \"test_data.txt\"\n",
    "\n",
    "train_data = pd.read_csv(train_path, sep=':::', names=['Title', 'Genre', 'Description'])\n",
    "test_data = pd.read_csv(test_path, sep=':::', names=['Title', 'Genre', 'Description'])\n",
    "\n",
    "full_data = create_csv_file(train_data, test_data)\n",
    "display(full_data.reset_index(drop=True))\n",
    "print(f'Number of halloween movies: {len(full_data[\"Labels\"][full_data[\"Labels\"]==1])}')\n",
    "print(f'Number of every other movie: {len(full_data[\"Labels\"][full_data[\"Labels\"]==0])}')\n"
   ]
  }
 ],
 "metadata": {
  "kernelspec": {
   "display_name": "horror-hacks",
   "language": "python",
   "name": "python3"
  },
  "language_info": {
   "codemirror_mode": {
    "name": "ipython",
    "version": 3
   },
   "file_extension": ".py",
   "mimetype": "text/x-python",
   "name": "python",
   "nbconvert_exporter": "python",
   "pygments_lexer": "ipython3",
   "version": "3.11.5"
  },
  "orig_nbformat": 4
 },
 "nbformat": 4,
 "nbformat_minor": 2
}
